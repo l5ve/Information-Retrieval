{
 "cells": [
  {
   "cell_type": "code",
   "execution_count": 2,
   "metadata": {},
   "outputs": [],
   "source": [
    "# 2020-01 CAU\n",
    "# Natural Language Processing and Information Retrieval\n",
    "# Term Indexing Project (Boolean model)\n",
    "#\n",
    "# Jihyo Han 20161856\n",
    "#\n",
    "#\n",
    "\n",
    "from selenium import webdriver\n",
    "from selenium.common.exceptions import NoSuchElementException\n",
    "from urllib.parse import urlparse, parse_qs\n",
    "\n",
    "# webdriver dir\n",
    "browser = webdriver.Chrome('C:/Users/00zh0/OneDrive/CAU/chromedriver.exe')"
   ]
  },
  {
   "cell_type": "code",
   "execution_count": 105,
   "metadata": {},
   "outputs": [
    {
     "name": "stdout",
     "output_type": "stream",
     "text": [
      "You've-Got-Mail\n"
     ]
    }
   ],
   "source": [
    "\n",
    "# movie script link\n",
    "# keep putting url and run, But DO NOT CLOSE THE SELENIUM WINDOW !!!\n",
    "url = 'https://www.imsdb.com/scripts/You\\'ve-Got-Mail.html'\n",
    "browser.get(url)\n",
    "\n",
    "script = browser.find_element_by_class_name('scrtext')\n",
    "title = url.replace('https://www.imsdb.com/scripts/', '')\n",
    "title = title.replace('.html', '')\n",
    "print(title)\n",
    "#print(script.text)\n",
    "\n",
    "# Change folder directory which belongs to categorization\n",
    "f = open('C:/Users/00zh0/OneDrive/CAU/2020-1/자연어처리 및 정보검색/과제/Text Indexing Project/scripts/Male/'+title+'.txt', 'w', -1, \"utf-8\")\n",
    "f.write(script.text)\n",
    "f.close()"
   ]
  },
  {
   "cell_type": "code",
   "execution_count": null,
   "metadata": {},
   "outputs": [],
   "source": []
  }
 ],
 "metadata": {
  "kernelspec": {
   "display_name": "Python 3",
   "language": "python",
   "name": "python3"
  },
  "language_info": {
   "codemirror_mode": {
    "name": "ipython",
    "version": 3
   },
   "file_extension": ".py",
   "mimetype": "text/x-python",
   "name": "python",
   "nbconvert_exporter": "python",
   "pygments_lexer": "ipython3",
   "version": "3.7.4"
  }
 },
 "nbformat": 4,
 "nbformat_minor": 2
}
