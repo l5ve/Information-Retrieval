{
 "cells": [
  {
   "cell_type": "code",
   "execution_count": 2,
   "metadata": {},
   "outputs": [],
   "source": [
    "# 2020-01 CAU\n",
    "# Natural Language Processing and Information Retrieval\n",
    "# Term Indexing Project (Boolean model)\n",
    "#\n",
    "# Jihyo Han 20161856\n",
    "#\n",
    "#\n",
    "\n",
    "import os\n",
    "import re\n",
    "import numpy as np\n",
    "import matplotlib.pyplot as plt\n",
    "\n",
    "# for stop words\n",
    "from nltk.corpus import stopwords \n",
    "import string\n",
    "\n",
    "# for saving array as .xls file\n",
    "import xlsxwriter\n",
    "\n",
    "import copy"
   ]
  },
  {
   "cell_type": "code",
   "execution_count": 3,
   "metadata": {},
   "outputs": [
    {
     "name": "stdout",
     "output_type": "stream",
     "text": [
      "['i', 'me', 'my', 'myself', 'we', 'our', 'ours', 'ourselves', 'you', \"you're\", \"you've\", \"you'll\", \"you'd\", 'your', 'yours', 'yourself', 'yourselves', 'he', 'him', 'his', 'himself', 'she', \"she's\", 'her', 'hers', 'herself', 'it', \"it's\", 'its', 'itself', 'they', 'them', 'their', 'theirs', 'themselves', 'what', 'which', 'who', 'whom', 'this', 'that', \"that'll\", 'these', 'those', 'am', 'is', 'are', 'was', 'were', 'be', 'been', 'being', 'have', 'has', 'had', 'having', 'do', 'does', 'did', 'doing', 'a', 'an', 'the', 'and', 'but', 'if', 'or', 'because', 'as', 'until', 'while', 'of', 'at', 'by', 'for', 'with', 'about', 'against', 'between', 'into', 'through', 'during', 'before', 'after', 'above', 'below', 'to', 'from', 'up', 'down', 'in', 'out', 'on', 'off', 'over', 'under', 'again', 'further', 'then', 'once', 'here', 'there', 'when', 'where', 'why', 'how', 'all', 'any', 'both', 'each', 'few', 'more', 'most', 'other', 'some', 'such', 'no', 'nor', 'not', 'only', 'own', 'same', 'so', 'than', 'too', 'very', 's', 't', 'can', 'will', 'just', 'don', \"don't\", 'should', \"should've\", 'now', 'd', 'll', 'm', 'o', 're', 've', 'y', 'ain', 'aren', \"aren't\", 'couldn', \"couldn't\", 'didn', \"didn't\", 'doesn', \"doesn't\", 'hadn', \"hadn't\", 'hasn', \"hasn't\", 'haven', \"haven't\", 'isn', \"isn't\", 'ma', 'mightn', \"mightn't\", 'mustn', \"mustn't\", 'needn', \"needn't\", 'shan', \"shan't\", 'shouldn', \"shouldn't\", 'wasn', \"wasn't\", 'weren', \"weren't\", 'won', \"won't\", 'wouldn', \"wouldn't\", 'th', 'nd', \"i'm\", \"can't\", \"i've\", ''] ['!', '\"', '#', '$', '%', '&', \"'\", '(', ')', '*', '+', ',', '-', '.', '/', ':', ';', '<', '=', '>', '?', '@', '[', '\\\\', ']', '^', '_', '`', '{', '|', '}', '~', '»', '¿', '»', 'â', '€', 'œ', '£', 'ã', '¢', '˜', '0', '1', '2', '3', '4', '5', '6', '7', '8', '9']\n"
     ]
    }
   ],
   "source": [
    "stop_words = stopwords.words('english') + ['th', 'nd', 'i\\'m', 'can\\'t', 'i\\'ve', '']\n",
    "stop_marks = list(string.punctuation) + ['»','¿','»','â','€','œ','£','ã','¢','˜'] \\\n",
    "              + list(('0','1','2','3','4','5','6','7','8','9'))\n",
    "print(stop_words, stop_marks)"
   ]
  },
  {
   "cell_type": "code",
   "execution_count": 4,
   "metadata": {},
   "outputs": [],
   "source": [
    "def countword(dir, word_count):\n",
    "    for filename in os.listdir(dir):\n",
    "        if filename.endswith('.txt'):\n",
    "            print(filename)\n",
    "            # ----- reading file ----- #\n",
    "            f = open(dir+filename, 'r', encoding='UTF8')\n",
    "            lines = f.read()           # full script text\n",
    "            lines = lines.lower()      # to check stop_words regardless of case\n",
    "            f.close()\n",
    "            # ------------------------ #\n",
    "\n",
    "            tokens = lines.split() # split script by blank\n",
    "\n",
    "            # ----- removing stop words ----- #\n",
    "            for token in tokens:\n",
    "                if token in stop_words:\n",
    "                    continue\n",
    "                else: \n",
    "                    token = token.translate({ord(words): '' for words in stop_marks}) # removing stop_marks\n",
    "                    if token in (stop_words or 'abcdefghijklmnopqrstuvwxyz'):\n",
    "                        # to double-check after eliminating stop_marks\n",
    "                        continue\n",
    "                    else:\n",
    "                        # ------ counting word frequency\n",
    "                        new = 1 # new word toggle\n",
    "                        for idx_word in range(len(word_count)):\n",
    "                            if token == word_count[idx_word][0]:    # repeat word just counts up\n",
    "                                word_count[idx_word][1] += 1\n",
    "                                new = 0\n",
    "                                break\n",
    "                        if new == 1: word_count.append([token, 1])  # if the token is new, add to list\n",
    "            # ------------------------------- #\n",
    "\n",
    "        else:\n",
    "            print('!!! --- This is not a .txt file --- !!! \\n')"
   ]
  },
  {
   "cell_type": "code",
   "execution_count": null,
   "metadata": {
    "scrolled": true
   },
   "outputs": [
    {
     "name": "stdout",
     "output_type": "stream",
     "text": [
      "---------- Female Movies START\n",
      "10-Things-I-Hate-About-You.txt\n",
      "A QUIET PLACE.txt\n",
      "Beauty-and-the-Beast.txt\n",
      "Black-Swan.txt\n",
      "Burlesque.txt\n",
      "Carrie.txt\n",
      "Case-39.txt\n",
      "CHARLE'S ANGELS.txt\n",
      "Easy-A.txt\n",
      "Ex-Machina.txt\n",
      "frozen.txt\n",
      "Girl-with-the-Dragon-Tattoo,-The.txt\n",
      "Gravity.txt\n",
      "Hanna.txt\n",
      "Heathers.txt\n",
      "Hollow-Man.txt\n"
     ]
    }
   ],
   "source": [
    "# Put dir where scripts are in\n",
    "female_dir = 'C:/Users/00zh0/OneDrive/CAU/2020-1/자연어처리 및 정보검색/과제/Text Indexing Project/scripts/Female/'\n",
    "male_dir = 'C:/Users/00zh0/OneDrive/CAU/2020-1/자연어처리 및 정보검색/과제/Text Indexing Project/scripts/Male/'\n",
    "female_word_count = []  # Checking word distribution of all movie scripts in folder\n",
    "male_word_count = []\n",
    "\n",
    "print('---------- Female Movies START')\n",
    "countword(female_dir, female_word_count)\n",
    "female_word_count.sort()\n",
    "print('---------- Male Movies START')\n",
    "countword(male_dir, male_word_count)\n",
    "male_word_count.sort()"
   ]
  },
  {
   "cell_type": "code",
   "execution_count": null,
   "metadata": {},
   "outputs": [],
   "source": [
    "# --- Comparing total word counts between Female vs Male\n",
    "print('Female word count: ', len(female_word_count))\n",
    "print('Male word count: ', len(male_word_count))\n",
    "\n",
    "#print(female_word_count)\n",
    "#print(male_word_count)"
   ]
  },
  {
   "cell_type": "code",
   "execution_count": null,
   "metadata": {},
   "outputs": [],
   "source": [
    "# --- Making Inverted Index\n",
    "# .. because there're only two documents, this model just counts how many documents have a word.\n",
    "# (not having a posting list of which documents contain words)\n",
    "\n",
    "# count meaning: female = 0, male = 1, both = 2\n",
    "\n",
    "# copying male_word_count to total_word_count\n",
    "total_word_count = copy.copy(male_word_count)\n",
    "for idx_word in range(len(male_word_count)):\n",
    "    total_word_count[idx_word][1] = 1   # make all counts to 1 (male)\n",
    "\n",
    "\n",
    "# Check whether female_word_count words are duplicate\n",
    "for idx_word in range(len(female_word_count)):\n",
    "    new = 1\n",
    "    for dup in range(len(total_word_count)): \n",
    "        if total_word_count[dup][0] == female_word_count[idx_word][0]:\n",
    "            total_word_count[dup][1] = 2 # If both documents have word\n",
    "            new = 0\n",
    "            break\n",
    "    if new == 1: total_word_count.append([female_word_count[idx_word][0],0]) # If not, add to list"
   ]
  },
  {
   "cell_type": "code",
   "execution_count": null,
   "metadata": {},
   "outputs": [],
   "source": [
    "total_word_count.sort()\n",
    "#print(total_word_count)"
   ]
  },
  {
   "cell_type": "code",
   "execution_count": null,
   "metadata": {},
   "outputs": [],
   "source": [
    "common = 0 \n",
    "female = 0\n",
    "male = 0\n",
    "\n",
    "for idx_count in range(len(total_word_count)):\n",
    "    if total_word_count[idx_count][1] == 2: common +=1\n",
    "    elif total_word_count[idx_count][1] == 1: male +=1\n",
    "    else: female += 1\n",
    "\n",
    "print(' total words counts: ', len(total_word_count),\\\n",
    "      '\\n common words: ', common,\\\n",
    "      '\\n female only words: ', female,\\\n",
    "      '\\n male only words: ', male\n",
    "     )"
   ]
  },
  {
   "cell_type": "code",
   "execution_count": null,
   "metadata": {},
   "outputs": [],
   "source": [
    "# --- Saving results as .xlsx file\n",
    "def savexlsx(xlsxfilename, word_count):\n",
    "    with xlsxwriter.Workbook(xlsxfilename) as workbook:\n",
    "        worksheet = workbook.add_worksheet()\n",
    "\n",
    "        for row_num, data in enumerate(word_count):\n",
    "            worksheet.write_row(row_num, 0, data)\n",
    "    workbook.close()\n",
    "\n",
    "savexlsx('female_word_count.xlsx', female_word_count)\n",
    "savexlsx('male_word_count.xlsx', male_word_count)\n",
    "savexlsx('total_word_count.xlsx', total_word_count)"
   ]
  },
  {
   "cell_type": "code",
   "execution_count": null,
   "metadata": {},
   "outputs": [],
   "source": []
  }
 ],
 "metadata": {
  "celltoolbar": "Raw Cell Format",
  "kernelspec": {
   "display_name": "Python 3",
   "language": "python",
   "name": "python3"
  },
  "language_info": {
   "codemirror_mode": {
    "name": "ipython",
    "version": 3
   },
   "file_extension": ".py",
   "mimetype": "text/x-python",
   "name": "python",
   "nbconvert_exporter": "python",
   "pygments_lexer": "ipython3",
   "version": "3.7.4"
  }
 },
 "nbformat": 4,
 "nbformat_minor": 2
}
